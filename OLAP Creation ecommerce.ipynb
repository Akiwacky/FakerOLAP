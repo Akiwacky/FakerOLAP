{
    "metadata": {
        "kernelspec": {
            "name": "SQL",
            "display_name": "SQL",
            "language": "sql"
        },
        "language_info": {
            "name": "sql",
            "version": ""
        }
    },
    "nbformat_minor": 2,
    "nbformat": 4,
    "cells": [
        {
            "cell_type": "markdown",
            "source": [
                "<span style=\"color: #0000ff;\">Database</span> Transformation (OLTP <span style=\"color: #0000ff;\">to</span> OLAP)"
            ],
            "metadata": {
                "language": "sql",
                "azdata_cell_guid": "1be9a93c-7f69-4c1b-a254-8fe767287f4d"
            },
            "attachments": {}
        },
        {
            "cell_type": "code",
            "source": [
                "SELECT * \r\n",
                "INTO DimCategories\r\n",
                "FROM ecommerce.dbo.categories;"
            ],
            "metadata": {
                "language": "sql",
                "azdata_cell_guid": "43865e21-fe22-4eb2-b1f4-5a48923aefa7",
                "tags": []
            },
            "outputs": [
                {
                    "output_type": "error",
                    "ename": "",
                    "evalue": "Msg 40515, Level 15, State 1, Line 16\r\nReference to database and/or server name in 'ecommerce.dbo.categories' is not supported in this version of SQL Server.",
                    "traceback": []
                },
                {
                    "output_type": "display_data",
                    "data": {
                        "text/html": "Total execution time: 00:00:00.007"
                    },
                    "metadata": {}
                }
            ],
            "execution_count": 2
        },
        {
            "cell_type": "code",
            "source": [
                "ALTER TABLE DimCategories \r\n",
                "ADD primary key (categoryID);"
            ],
            "metadata": {
                "language": "sql",
                "azdata_cell_guid": "ae0c6320-d922-4465-bbbd-70efca2cd9ed"
            },
            "outputs": [
                {
                    "output_type": "display_data",
                    "data": {
                        "text/html": "Commands completed successfully."
                    },
                    "metadata": {}
                },
                {
                    "output_type": "display_data",
                    "data": {
                        "text/html": "Total execution time: 00:00:00.021"
                    },
                    "metadata": {}
                }
            ],
            "execution_count": 4
        },
        {
            "cell_type": "code",
            "source": [
                "SELECT * \r\n",
                "INTO DimPaymentMethods\r\n",
                "FROM ecommerce.dbo.payment_methods;"
            ],
            "metadata": {
                "language": "sql",
                "azdata_cell_guid": "58ad46f4-3762-4b9b-8815-001602d03a35"
            },
            "outputs": [
                {
                    "output_type": "display_data",
                    "data": {
                        "text/html": "(5 rows affected)"
                    },
                    "metadata": {}
                },
                {
                    "output_type": "display_data",
                    "data": {
                        "text/html": "Total execution time: 00:00:00.004"
                    },
                    "metadata": {}
                }
            ],
            "execution_count": 5
        },
        {
            "cell_type": "code",
            "source": [
                "ALTER TABLE DimPaymentMethods \r\n",
                "ADD primary key (PaymentID);"
            ],
            "metadata": {
                "language": "sql",
                "azdata_cell_guid": "55522ec0-00f6-442e-aa92-d5e5c342a7ab"
            },
            "outputs": [
                {
                    "output_type": "display_data",
                    "data": {
                        "text/html": "Commands completed successfully."
                    },
                    "metadata": {}
                },
                {
                    "output_type": "display_data",
                    "data": {
                        "text/html": "Total execution time: 00:00:00.006"
                    },
                    "metadata": {}
                }
            ],
            "execution_count": 7
        },
        {
            "cell_type": "code",
            "source": [
                "SELECT *\r\n",
                "INTO DimProducts\r\n",
                "FROM ecommerce.dbo.products;"
            ],
            "metadata": {
                "language": "sql",
                "azdata_cell_guid": "c6328af1-54e3-4e3d-8f55-1211a6207582"
            },
            "outputs": [
                {
                    "output_type": "display_data",
                    "data": {
                        "text/html": "(120 rows affected)"
                    },
                    "metadata": {}
                },
                {
                    "output_type": "display_data",
                    "data": {
                        "text/html": "Total execution time: 00:00:00.005"
                    },
                    "metadata": {}
                }
            ],
            "execution_count": 8
        },
        {
            "cell_type": "code",
            "source": [
                "ALTER TABLE DimProducts\r\n",
                "ADD primary key (product_id);"
            ],
            "metadata": {
                "language": "sql",
                "azdata_cell_guid": "2e314cbf-d6fc-4bec-8f89-cfc2fe5b4ebe"
            },
            "outputs": [
                {
                    "output_type": "display_data",
                    "data": {
                        "text/html": "Commands completed successfully."
                    },
                    "metadata": {}
                },
                {
                    "output_type": "display_data",
                    "data": {
                        "text/html": "Total execution time: 00:00:00.009"
                    },
                    "metadata": {}
                }
            ],
            "execution_count": 10
        },
        {
            "cell_type": "code",
            "source": [
                "ALTER TABLE DimProducts \r\n",
                "ADD foreign key (category_id) references DimCategories(categoryID);"
            ],
            "metadata": {
                "language": "sql",
                "azdata_cell_guid": "0a52627c-93be-4c22-9701-ed71bb3eca4b"
            },
            "outputs": [
                {
                    "output_type": "display_data",
                    "data": {
                        "text/html": "Commands completed successfully."
                    },
                    "metadata": {}
                },
                {
                    "output_type": "display_data",
                    "data": {
                        "text/html": "Total execution time: 00:00:00.011"
                    },
                    "metadata": {}
                }
            ],
            "execution_count": 12
        },
        {
            "cell_type": "code",
            "source": [
                "SELECT * \r\n",
                "INTO DimCustomers\r\n",
                "FROM ecommerce.dbo.customers;"
            ],
            "metadata": {
                "language": "sql",
                "azdata_cell_guid": "0d8cc0f2-45f6-4f49-b38b-de5cbdad55e4"
            },
            "outputs": [
                {
                    "output_type": "display_data",
                    "data": {
                        "text/html": "(50 rows affected)"
                    },
                    "metadata": {}
                },
                {
                    "output_type": "display_data",
                    "data": {
                        "text/html": "Total execution time: 00:00:00.004"
                    },
                    "metadata": {}
                }
            ],
            "execution_count": 13
        },
        {
            "cell_type": "code",
            "source": [
                "ALTER TABLE DimCustomers \r\n",
                "ADD primary key (customer_id);"
            ],
            "metadata": {
                "language": "sql",
                "azdata_cell_guid": "87b7bf28-0c93-42bf-bb3d-ac65eee24224"
            },
            "outputs": [
                {
                    "output_type": "display_data",
                    "data": {
                        "text/html": "Commands completed successfully."
                    },
                    "metadata": {}
                },
                {
                    "output_type": "display_data",
                    "data": {
                        "text/html": "Total execution time: 00:00:00.011"
                    },
                    "metadata": {}
                }
            ],
            "execution_count": 15
        },
        {
            "cell_type": "code",
            "source": [
                "SELECT * \r\n",
                "INTO DimLocations\r\n",
                "FROM ecommerce.dbo.locations;"
            ],
            "metadata": {
                "language": "sql",
                "azdata_cell_guid": "526b49c5-82f7-4ec5-8fb1-4350498790f6"
            },
            "outputs": [
                {
                    "output_type": "display_data",
                    "data": {
                        "text/html": "(50 rows affected)"
                    },
                    "metadata": {}
                },
                {
                    "output_type": "display_data",
                    "data": {
                        "text/html": "Total execution time: 00:00:00.007"
                    },
                    "metadata": {}
                }
            ],
            "execution_count": 3
        },
        {
            "cell_type": "code",
            "source": [
                "ALTER TABLE DimLocations \r\n",
                "ADD primary key (location_id);"
            ],
            "metadata": {
                "language": "sql",
                "azdata_cell_guid": "d3cbff6b-704f-4303-af44-35aa71f01cfc"
            },
            "outputs": [
                {
                    "output_type": "display_data",
                    "data": {
                        "text/html": "Commands completed successfully."
                    },
                    "metadata": {}
                },
                {
                    "output_type": "display_data",
                    "data": {
                        "text/html": "Total execution time: 00:00:00.015"
                    },
                    "metadata": {}
                }
            ],
            "execution_count": 4
        },
        {
            "cell_type": "code",
            "source": [
                "WITH TotalSales AS (\r\n",
                "    SELECT od.order_id, SUM(p.price * od.quantity) AS TotalOrderSales\r\n",
                "    FROM ecommerce.dbo.orderDetails AS od\r\n",
                "    JOIN ecommerce.dbo.products AS p ON od.product_id = p.product_id\r\n",
                "    GROUP BY od.order_id\r\n",
                ")\r\n",
                "SELECT \r\n",
                "    o.orders_id, \r\n",
                "    o.date, \r\n",
                "    o.customer_id,\r\n",
                "    o.payment_method_id, \r\n",
                "    od.product_id, \r\n",
                "    od.quantity,\r\n",
                "    (p.price * od.quantity) AS SalesAmount,\r\n",
                "    ts.TotalOrderSales\r\n",
                "INTO FactTable\r\n",
                "FROM ecommerce.dbo.orders o \r\n",
                "JOIN ecommerce.dbo.orderDetails od \r\n",
                "ON o.orders_id = od.order_id\r\n",
                "JOIN ecommerce.dbo.products AS p ON od.product_id = p.product_id\r\n",
                "JOIN TotalSales ts ON ts.order_id = o.orders_id;\r\n",
                ""
            ],
            "metadata": {
                "language": "sql",
                "azdata_cell_guid": "ba42499a-b233-4f73-9fe2-57127cf556e6"
            },
            "outputs": [
                {
                    "output_type": "display_data",
                    "data": {
                        "text/html": "(443 rows affected)"
                    },
                    "metadata": {}
                },
                {
                    "output_type": "display_data",
                    "data": {
                        "text/html": "Total execution time: 00:00:00.022"
                    },
                    "metadata": {}
                }
            ],
            "execution_count": 16
        },
        {
            "cell_type": "code",
            "source": [
                "ALTER TABLE FactTable \r\n",
                "ADD factTableID SMALLINT IDENTITY(1, 1) PRIMARY KEY;\r\n",
                "\r\n",
                "ALTER TABLE FactTable ADD \r\n",
                "foreign key (customer_id) references DimCustomers(customer_id);\r\n",
                "\r\n",
                "\r\n",
                "ALTER TABLE FactTable \r\n",
                "ADD foreign key (product_id) references DimProducts(product_id);"
            ],
            "metadata": {
                "azdata_cell_guid": "5be64730-a78d-4fe6-a7db-aaef1fa579e0",
                "language": "sql",
                "tags": []
            },
            "outputs": [
                {
                    "output_type": "error",
                    "ename": "",
                    "evalue": "Msg 2705, Level 16, State 4, Line 1\r\nColumn names in each table must be unique. Column name 'factTableID' in table 'FactTable' is specified more than once.",
                    "traceback": []
                },
                {
                    "output_type": "display_data",
                    "data": {
                        "text/html": "Total execution time: 00:00:00.001"
                    },
                    "metadata": {}
                }
            ],
            "execution_count": 18
        },
        {
            "cell_type": "code",
            "source": [
                "ALTER TABLE FactTable \r\n",
                "ADD foreign key (payment_method_id) references DimPaymentMethods(PaymentID);"
            ],
            "metadata": {
                "language": "sql",
                "azdata_cell_guid": "cc00f0cc-9d22-4b40-ba7f-5b545c6c41ff"
            },
            "outputs": [
                {
                    "output_type": "display_data",
                    "data": {
                        "text/html": "Commands completed successfully."
                    },
                    "metadata": {}
                },
                {
                    "output_type": "display_data",
                    "data": {
                        "text/html": "Total execution time: 00:00:00.006"
                    },
                    "metadata": {}
                }
            ],
            "execution_count": 19
        },
        {
            "cell_type": "code",
            "source": [
                "-- Indexing --\r\n",
                "CREATE INDEX idx_fact_customerid ON FactTable(customer_id);\r\n",
                "CREATE INDEX idx_fact_paymentmethodid ON FactTable(payment_method_id);\r\n",
                "CREATE INDEX idx_fact_productid ON FactTable(product_id);"
            ],
            "metadata": {
                "language": "sql",
                "azdata_cell_guid": "e4f600ae-cfb8-4655-98ea-7d74700445ac"
            },
            "outputs": [],
            "execution_count": null
        },
        {
            "cell_type": "code",
            "source": [
                "-- Data Quality Scripts --\r\n",
                "SELECT * \r\n",
                "FROM FactTable\r\n",
                "WHERE SalesAmount < 0 OR TotalOrderSales < 0;"
            ],
            "metadata": {
                "language": "sql",
                "azdata_cell_guid": "4982ad69-c58a-489b-a249-427db8ebc9ff"
            },
            "outputs": [
                {
                    "output_type": "display_data",
                    "data": {
                        "text/html": "(0 rows affected)"
                    },
                    "metadata": {}
                },
                {
                    "output_type": "display_data",
                    "data": {
                        "text/html": "Total execution time: 00:00:00.004"
                    },
                    "metadata": {}
                },
                {
                    "output_type": "execute_result",
                    "execution_count": 21,
                    "data": {
                        "application/vnd.dataresource+json": {
                            "schema": {
                                "fields": [
                                    {
                                        "name": "orders_id"
                                    },
                                    {
                                        "name": "date"
                                    },
                                    {
                                        "name": "customer_id"
                                    },
                                    {
                                        "name": "payment_method_id"
                                    },
                                    {
                                        "name": "product_id"
                                    },
                                    {
                                        "name": "quantity"
                                    },
                                    {
                                        "name": "SalesAmount"
                                    },
                                    {
                                        "name": "TotalOrderSales"
                                    },
                                    {
                                        "name": "factTableID"
                                    }
                                ]
                            },
                            "data": []
                        },
                        "text/html": "<table><tr><th>orders_id</th><th>date</th><th>customer_id</th><th>payment_method_id</th><th>product_id</th><th>quantity</th><th>SalesAmount</th><th>TotalOrderSales</th><th>factTableID</th></tr></table>"
                    },
                    "metadata": {}
                }
            ],
            "execution_count": 21
        }
    ]
}